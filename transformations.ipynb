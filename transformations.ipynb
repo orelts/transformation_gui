{
 "cells": [
  {
   "cell_type": "code",
   "execution_count": 1,
   "metadata": {},
   "outputs": [],
   "source": [
    "import numpy as np \n",
    "import matplotlib.pyplot as plt\n",
    "import transformation as tr\n"
   ]
  },
  {
   "cell_type": "code",
   "execution_count": 109,
   "metadata": {},
   "outputs": [
    {
     "name": "stdout",
     "output_type": "stream",
     "text": [
      "|[1 2 3]|   |[3 3 3]|   |[3 3 3]|   |[3 3 3]|   |[3 3 3]|   |[3 3 3]|   |[3 3 3]|   |[3 3 3]|   |[1 2 3]|   |[1 2 3]|     |[1 2 3]|\n",
      "|[4 5 6]| x |[4 5 6]| x |[4 5 6]| x |[4 5 6]| x |[4 5 6]| x |[4 5 6]| x |[4 5 6]| x |[4 5 6]| x |[4 5 6]| x |[4 5 6]|  =  |[4 5 6]|\n",
      "|[7 8 9]|   |[7 8 9]|   |[7 8 9]|   |[7 8 9]|   |[7 8 9]|   |[7 8 9]|   |[7 8 9]|   |[7 8 9]|   |[7 8 9]|   |[7 8 9]|     |[7 8 9]|\n",
      "\n"
     ]
    }
   ],
   "source": [
    "a = np.array([[1,2,3], [4,5,6], [7,8,9]])\n",
    "b = np.array([[3,3,3], [4,5,6], [7,8,9]])\n",
    "\n",
    "lst = [a, a, b, b, b, b ,b, b, b, a ]\n",
    "\n",
    "def print_matrix_mul(transformation_list, result=None):\n",
    "    transformation_list.reverse()\n",
    "    row0 = [matrix[0] for matrix in transformation_list]\n",
    "    row1 = [matrix[1] for matrix in transformation_list]\n",
    "    row2 = [matrix[2] for matrix in transformation_list]\n",
    "\n",
    "    result0 = \"\" if result is None else f\"     |{result[0]}|\"\n",
    "    result1 = \"\" if result is None else f\"  =  |{result[1]}|\"\n",
    "    result2 = \"\" if result is None else f\"     |{result[2]}|\"\n",
    "\n",
    "    row0_str = [str(row) for row in row0]\n",
    "\n",
    "    row0_str = \"|\" +\"|   |\".join(row0_str) + \"|\" + f\"{result0}\"+  \"\\n\"\n",
    "    row1_str = [str(row) for row in row1]\n",
    "    row1_str = \"|\" +\"| x |\".join(row1_str) + \"|\" + f\"{result1}\"+  \"\\n\"\n",
    "    \n",
    "\n",
    "    row2_str = [str(row) for row in row2]\n",
    "    row2_str = \"|\" +\"|   |\".join(row2_str) + \"|\" + f\"{result2}\"+  \"\\n\"\n",
    "\n",
    "    return row0_str + row1_str + row2_str\n",
    "\n",
    "\n",
    "mul = print_matrix_mul(lst, a)\n",
    "print(mul)"
   ]
  },
  {
   "cell_type": "code",
   "execution_count": 73,
   "metadata": {},
   "outputs": [],
   "source": [
    "\n",
    "def plot_polyg(polygon_list, size=(5,5), num=0):\n",
    "    colors = ['red', 'blue', 'black', 'green', 'brown', 'yellow']\n",
    "    f = plt.figure(num, figsize=size)\n",
    "    plt.grid()\n",
    "    plt.axhline(0, color='black')\n",
    "    plt.axvline(0, color='black')\n",
    "\n",
    "    polygon_list = np.array(polygon_list)\n",
    "    xlim = 5\n",
    "    ylim = 5\n",
    "    \n",
    "    plt.xlim([-xlim, xlim + 1])\n",
    "    plt.ylim([-xlim, xlim + 1])\n",
    "\n",
    "    plt.xticks(np.arange(-xlim, xlim, 1))\n",
    "    plt.yticks(np.arange(-ylim, ylim, 1))\n",
    "    for polygon, color in zip(polygon_list, colors):\n",
    "        t = plt.Polygon(polygon.T, color=color)\n",
    "        plt.gca().add_patch(t)\n",
    "\n",
    "    return f\n",
    "\n"
   ]
  },
  {
   "cell_type": "code",
   "execution_count": 14,
   "metadata": {},
   "outputs": [
    {
     "data": {
      "text/plain": [
       "[1]"
      ]
     },
     "execution_count": 14,
     "metadata": {},
     "output_type": "execute_result"
    }
   ],
   "source": [
    "points = np.array([[0, 0], [1, 0], [0, 1]]).T\n",
    "final = np.array([[0, 3], [2, 3], [0,5]]).T\n",
    "\n",
    "lst =[1, 2]\n",
    "lst.pop()\n",
    "\n",
    "\n",
    "lst"
   ]
  },
  {
   "cell_type": "code",
   "execution_count": 16,
   "metadata": {},
   "outputs": [
    {
     "data": {
      "text/plain": [
       "array([[ 2., -0.,  0.],\n",
       "       [-0.,  2.,  3.],\n",
       "       [-0., -0.,  1.]])"
      ]
     },
     "execution_count": 16,
     "metadata": {},
     "output_type": "execute_result"
    }
   ],
   "source": [
    "H = tr.compute_transformation(final, points)\n",
    "newH = np.round(H, decimals=3)\n",
    "\n",
    "newH"
   ]
  },
  {
   "cell_type": "code",
   "execution_count": 15,
   "metadata": {},
   "outputs": [],
   "source": [
    "transformed = tr.apply_transformation([newH], points=points)\n",
    "f = plot_polyg([points, final, ])\n",
    "plt.show()"
   ]
  }
 ],
 "metadata": {
  "interpreter": {
   "hash": "39444bd280fafce92ad6091ffe414f326802f328785c8904d0bf89ea052bb6c8"
  },
  "kernelspec": {
   "display_name": "Python 3.9.12 ('ml')",
   "language": "python",
   "name": "python3"
  },
  "language_info": {
   "codemirror_mode": {
    "name": "ipython",
    "version": 3
   },
   "file_extension": ".py",
   "mimetype": "text/x-python",
   "name": "python",
   "nbconvert_exporter": "python",
   "pygments_lexer": "ipython3",
   "version": "3.9.12"
  },
  "orig_nbformat": 4
 },
 "nbformat": 4,
 "nbformat_minor": 2
}
