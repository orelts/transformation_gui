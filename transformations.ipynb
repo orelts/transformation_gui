{
 "cells": [
  {
   "cell_type": "code",
   "execution_count": 93,
   "metadata": {},
   "outputs": [],
   "source": [
    "import numpy as np \n",
    "import matplotlib.pyplot as plt"
   ]
  },
  {
   "cell_type": "code",
   "execution_count": 94,
   "metadata": {},
   "outputs": [],
   "source": [
    "def to_hom(points):\n",
    "    hom = points.copy()\n",
    "    hom = np.vstack([hom, np.ones(points.shape[1])])\n",
    "    return  hom\n",
    "\n",
    "def to_het(points):\n",
    "    het = points.copy()\n",
    "    het = het[:-1,:]\n",
    "    return het\n",
    "\n",
    "def apply_transformation(transformation_list, points):\n",
    "    for idx, trans in enumerate(transformation_list):\n",
    "        if idx == 0:\n",
    "            temp = points\n",
    "        temp = trans @ temp\n",
    "\n",
    "    return temp\n",
    "\n",
    "def calc_trans(transformation_list):\n",
    "    for idx, trans in enumerate(transformation_list):\n",
    "        if idx == 0:\n",
    "            temp = trans\n",
    "            continue\n",
    "        temp = trans @ temp\n",
    "    return temp\n",
    "    \n",
    "    return temp\n",
    "def plot_traingle(trinagle_list):\n",
    "    colors = ['red', 'blue', 'black', 'green', 'brown', 'yellow']\n",
    "    plt.figure()\n",
    "    plt.grid()\n",
    "    plt.axhline(0, color='black')\n",
    "    plt.axvline(0, color='black')\n",
    "    plt.xlim([-6,6])\n",
    "    plt.ylim([-6,6])\n",
    "    plt.xticks(np.arange(-6, 6, 1))\n",
    "    plt.yticks(np.arange(-6, 6, 1))\n",
    "    for trinagle, color in zip(trinagle_list, colors):\n",
    "        print(color)\n",
    "        t = plt.Polygon(trinagle.T, color=color)\n",
    "        plt.gca().add_patch(t)\n",
    "\n",
    "\n",
    "    plt.show()\n",
    "\n",
    "def rad(deg):\n",
    "    return (deg / 180) * np.pi"
   ]
  },
  {
   "cell_type": "code",
   "execution_count": 97,
   "metadata": {},
   "outputs": [
    {
     "name": "stdout",
     "output_type": "stream",
     "text": [
      "[[ 1.5         0.          0.5       ]\n",
      " [ 0.          0.66666667 -4.66666667]\n",
      " [ 0.          0.          1.        ]]\n",
      "red\n",
      "blue\n",
      "black\n"
     ]
    },
    {
     "data": {
      "image/png": "[encoded data removed]",
      "text/plain": [
       "<Figure size 432x288 with 1 Axes>"
      ]
     },
     "metadata": {
      "needs_background": "light"
     },
     "output_type": "display_data"
    }
   ],
   "source": [
    "pointsA = np.array([[1,4],[1,1],[3,1], [3,4]]).T\n",
    "\n",
    "pointsA_hom = to_hom(pointsA)\n",
    "\n",
    "transf1 = np.array([[1.5, 0,       0], \n",
    "                    [0,     1.0/1.5,           0], \n",
    "                    [0,     0,            1]])\n",
    "\n",
    "transf2 = np.array([[1, 0, 2-1.5], \n",
    "                    [0, 1, -4-2.0/3.0], \n",
    "                    [0, 0, 1]])\n",
    "\n",
    "temp1 = apply_transformation([transf1], pointsA_hom)\n",
    "\n",
    "temp2 = apply_transformation([transf2], temp1)\n",
    "\n",
    "\n",
    "\n",
    "trans = calc_trans([transf1, transf2])\n",
    "print(trans)\n",
    "\n",
    "temp1 = to_het(temp1)\n",
    "temp2 = to_het(temp2)\n",
    "\n",
    "plot_traingle([pointsA, temp1, temp2])"
   ]
  }
 ],
 "metadata": {
  "interpreter": {
   "hash": "39444bd280fafce92ad6091ffe414f326802f328785c8904d0bf89ea052bb6c8"
  },
  "kernelspec": {
   "display_name": "Python 3.9.12 ('ml')",
   "language": "python",
   "name": "python3"
  },
  "language_info": {
   "codemirror_mode": {
    "name": "ipython",
    "version": 3
   },
   "file_extension": ".py",
   "mimetype": "text/x-python",
   "name": "python",
   "nbconvert_exporter": "python",
   "pygments_lexer": "ipython3",
   "version": "3.9.12"
  },
  "orig_nbformat": 4
 },
 "nbformat": 4,
 "nbformat_minor": 2
}
